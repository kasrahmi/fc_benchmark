{
 "cells": [
  {
   "cell_type": "code",
   "execution_count": 1,
   "metadata": {},
   "outputs": [],
   "source": [
    "import pandas as pd\n",
    "import numpy as np\n",
    "import matplotlib.pyplot as plt\n",
    "import matplotlib.ticker as ticker\n",
    "from functools import reduce\n",
    "from csv import writer as csvwriter\n",
    "import gc\n",
    "import json\n"
   ]
  },
  {
   "cell_type": "code",
   "execution_count": 2,
   "metadata": {},
   "outputs": [],
   "source": [
    "def extract_experiment_memory(lang: str, expr: str):\n",
    "    df = pd.read_csv(f\"out/{lang}_{expr}_memory.csv\")\n",
    "    df[\"Invoke\"] = df[\"Invoke\"] - df[\"Server\"]\n",
    "    df = df.mean().astype(int).to_frame().T\n",
    "    df.insert(0, \"Experiment\", expr)\n",
    "    df.insert(0, \"Language\", lang)\n",
    "    # Reshape the DataFrame\n",
    "    df.columns = ['Language', 'Experiment', 'Server', 'Invoke']\n",
    "    df = df.reset_index(drop=True)\n",
    "    \n",
    "    return df\n",
    "\n",
    "def extract_reap_experiment_memory(lang: str, expr: str):\n",
    "    df = pd.read_csv(f\"out/reap_{lang}_{expr}_memory.csv\")\n",
    "    df = df.mean().astype(int).to_frame().T\n",
    "    df.insert(0, \"Experiment\", expr)\n",
    "    df.insert(0, \"Language\", lang)\n",
    "    # Reshape the DataFrame\n",
    "    df.columns = ['Language', 'Experiment', 'Invoke']\n",
    "    df = df.reset_index(drop=True)\n",
    "    \n",
    "    return df\n",
    "\n",
    "def extract_baseline_memory(expr: str):\n",
    "    df = pd.read_csv(f\"out/custom_{expr}_memory.csv\")\n",
    "    df = df.mean().astype(int).to_frame().T\n",
    "    df.insert(0, \"Experiment\", expr)\n",
    "    # Reshape the DataFrame\n",
    "    df = df.reset_index(drop=True)\n",
    "    return df"
   ]
  },
  {
   "cell_type": "code",
   "execution_count": 5,
   "metadata": {},
   "outputs": [
    {
     "name": "stdout",
     "output_type": "stream",
     "text": [
      "  Language       Experiment  Server  Invoke\n",
      "0   python  helloworld_neta    2167    1754\n",
      "1   python    helloworld_s3    2220    6584\n"
     ]
    }
   ],
   "source": [
    "# baseline_vm = extract_baseline_memory(\"base\")\n",
    "# print(baseline_vm)\n",
    "# baseline_s3 = extract_baseline_memory(\"s3\")\n",
    "# print(baseline_s3)\n",
    "# compare_languages = pd.concat([extract_experiment_memory(lang, expr) for lang in [\"python\", \"node\", \"cpp\"] for expr in [\"helloworld_grpc\", \"helloworld_tcp\"]], ignore_index=True)\n",
    "python_workload = pd.concat([extract_experiment_memory(lang, expr) for lang in [\"python\"] for expr in [\"helloworld_neta\", \"helloworld_s3\"]], ignore_index=True)\n",
    "\n",
    "# print(compare_languages)\n",
    "print(python_workload)"
   ]
  },
  {
   "cell_type": "code",
   "execution_count": 6,
   "metadata": {},
   "outputs": [
    {
     "name": "stdout",
     "output_type": "stream",
     "text": [
      "  Language       Experiment  Invoke\n",
      "0   python  helloworld_neta    3920\n",
      "1   python    helloworld_s3    8683\n"
     ]
    }
   ],
   "source": [
    "# baseline_vm = extract_baseline_memory(\"base\")\n",
    "# print(baseline_vm)\n",
    "# baseline_s3 = extract_baseline_memory(\"s3\")\n",
    "# print(baseline_s3)\n",
    "# compare_languages = pd.concat([extract_experiment_memory(lang, expr) for lang in [\"python\", \"node\", \"cpp\"] for expr in [\"helloworld_grpc\", \"helloworld_tcp\"]], ignore_index=True)\n",
    "python_workload = pd.concat([extract_reap_experiment_memory(lang, expr) for lang in [\"python\"] for expr in [\"helloworld_neta\", \"helloworld_s3\"]], ignore_index=True)\n",
    "\n",
    "# print(compare_languages)\n",
    "print(python_workload)"
   ]
  },
  {
   "cell_type": "code",
   "execution_count": null,
   "metadata": {},
   "outputs": [],
   "source": []
  }
 ],
 "metadata": {
  "kernelspec": {
   "display_name": "Python 3",
   "language": "python",
   "name": "python3"
  },
  "language_info": {
   "codemirror_mode": {
    "name": "ipython",
    "version": 3
   },
   "file_extension": ".py",
   "mimetype": "text/x-python",
   "name": "python",
   "nbconvert_exporter": "python",
   "pygments_lexer": "ipython3",
   "version": "3.10.12"
  }
 },
 "nbformat": 4,
 "nbformat_minor": 2
}
